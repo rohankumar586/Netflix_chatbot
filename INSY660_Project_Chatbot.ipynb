{
  "cells": [
    {
      "cell_type": "code",
      "execution_count": 1,
      "id": "FeUkDOPmO45O",
      "metadata": {
        "id": "FeUkDOPmO45O"
      },
      "outputs": [],
      "source": [
        "import pandas as pd\n",
        "import numpy as np\n",
        "import seaborn as sns\n",
        "import matplotlib.pyplot as plt\n",
        "!pip install fuzzywuzzy\n",
        "from fuzzywuzzy import process\n",
        "\n",
        "user_data = {\n",
        "    \"username\": [\"user1\", \"user2\", \"user3\"],\n",
        "    \"email\": [\"user1@example.com\", \"user2@example.com\", \"user3@example.com\"],\n",
        "    \"password\": [\"pass1\", \"pass2\", \"pass3\"]\n",
        "}\n",
        "columns = [\"userid\", \"response\", \"sentiment\", \"sentiment_score\"]\n",
        "df_feedback_1 = pd.DataFrame(columns=columns)\n",
        "df_feedback_2 = pd.DataFrame(columns=columns)"
      ]
    },
    {
      "cell_type": "code",
      "execution_count": 2,
      "id": "4d0405cc-3826-4561-b29f-81f6584266f3",
      "metadata": {
        "id": "4d0405cc-3826-4561-b29f-81f6584266f3"
      },
      "outputs": [],
      "source": [
        "# Store the keywords for the welcome message\n",
        "# 1 = Account or payment\n",
        "# 2 = Watch Suggestion\n",
        "# 3 = How do I ...\n",
        "kw_welcome = {\n",
        "    1: ['plan', 'plans', 'price', 'pricing', 'account', 'purchase', 'subscribe', 'subscription',\n",
        "       'payment', 'pay', 'yearly', 'monthly', 'family', 'familyplan', 'signup',\n",
        "       'close', 'deactive', 'deactivate','1'],\n",
        "    2: ['suggestion', 'recommendation', 'suggestions', 'recommendations', 'suggest', 'recommend', 'movie', '2'],\n",
        "    3: ['help', 'assist', 'support', 'how' , 'do', 'i', '3']\n",
        "}"
      ]
    },
    {
      "cell_type": "code",
      "execution_count": 3,
      "id": "9433d1e2-9682-404d-8fcd-213e47affd89",
      "metadata": {
        "colab": {
          "base_uri": "https://localhost:8080/"
        },
        "id": "9433d1e2-9682-404d-8fcd-213e47affd89",
        "outputId": "9a380130-dfa3-44d5-8fea-69397b77d264"
      },
      "outputs": [],
      "source": [
        "# Welcome Message\n",
        "welcome = input(\n",
        "'''Welcome to Netflix Chatbot! How can I assist you today?\n",
        "      Account or payment\n",
        "      Watch Suggestion\n",
        "      How do I ... ''')"
      ]
    },
    {
      "cell_type": "code",
      "execution_count": 4,
      "id": "e3187d9b-e361-46e5-b333-39f7aeddba98",
      "metadata": {
        "id": "e3187d9b-e361-46e5-b333-39f7aeddba98"
      },
      "outputs": [],
      "source": [
        "def check_words(text, word_dict):\n",
        "    if text is not None:\n",
        "        words = text.lower().split()  # Split the input text into individual words\n",
        "        found_numbers = []  # Initialize a list to store matched numbers\n",
        "\n",
        "        # Iterate through each word in the input text\n",
        "        for word in words:\n",
        "            # Check if the word matches any keywords in the word_dict\n",
        "            for num in word_dict:\n",
        "                if word in word_dict[num]:\n",
        "                    if num not in found_numbers:\n",
        "                       found_numbers.append(num)  # If a match is found, store the associated number\n",
        "\n",
        "    if len(found_numbers) > 0:\n",
        "        return found_numbers\n",
        "    else:\n",
        "        print(\"Oops! It looks like I didn't quite catch that. Feel free to type one of the choices.\")\n"
      ]
    },
    {
      "cell_type": "code",
      "execution_count": 5,
      "id": "8lKz4_Zx1x4q",
      "metadata": {
        "colab": {
          "base_uri": "https://localhost:8080/"
        },
        "id": "8lKz4_Zx1x4q",
        "outputId": "0d4b5bf7-b02c-4912-9bbe-eb29665d239e"
      },
      "outputs": [
        {
          "name": "stdout",
          "output_type": "stream",
          "text": [
            "You seem to be interested in '1'. Please choose the closest option to your request:\n",
            "1. Plans and pricing\n",
            "2. Login / Password issues\n",
            "3. Update payment info\n",
            "4. Return a video\n",
            "5. Subscription problem / cancel\n",
            "6. Close account\n"
          ]
        }
      ],
      "source": [
        "user_intentions = check_words(welcome, kw_welcome)\n",
        "selected_option = None\n",
        "\n",
        "if user_intentions:\n",
        "    selected_option = user_intentions[0]\n",
        "    user_request = ' '.join([word for word in welcome.split() if word in kw_welcome[selected_option]])\n",
        "    print(f\"You seem to be interested in '{user_request}'. Please choose the closest option to your request:\")\n",
        "else:\n",
        "    print(\"I'm here to assist you with various options.\")\n",
        "\n",
        "# Display all options for the user to choose\n",
        "relevant_options = {\n",
        "    1: 'Plans and pricing',\n",
        "    2: 'Login / Password issues',\n",
        "    3: 'Update payment info',\n",
        "    4: 'Return a video',\n",
        "    5: 'Subscription problem / cancel',\n",
        "    6: 'Close account'\n",
        "}\n",
        "\n",
        "for key in relevant_options:\n",
        "    print(f\"{key}. {relevant_options[key]}\")"
      ]
    },
    {
      "cell_type": "markdown",
      "id": "6ddb953a-aa1c-4ec0-9478-6c8b1d5d2509",
      "metadata": {
        "id": "6ddb953a-aa1c-4ec0-9478-6c8b1d5d2509",
        "jp-MarkdownHeadingCollapsed": true,
        "tags": []
      },
      "source": [
        "## Scenario 1 Account or payment"
      ]
    },
    {
      "cell_type": "code",
      "execution_count": 6,
      "id": "OQBY_xFZ2Md3",
      "metadata": {
        "colab": {
          "base_uri": "https://localhost:8080/"
        },
        "id": "OQBY_xFZ2Md3",
        "outputId": "e22fa8db-aebf-4e42-8ac9-52e436c21ed1"
      },
      "outputs": [],
      "source": [
        "opt1 = None\n",
        "if 1 in check_words(welcome, kw_welcome):\n",
        "  opt1 = input(\"Please enter the number of your choice: \")\n",
        "\n",
        "  # Keywords related to scenario 1 - account or payment\n",
        "  kw_opt1 = {\n",
        "      1: ['plans', 'pricing', 'plan', 'price','subscribe','purchase','signup'],\n",
        "      2: ['login', 'forget', 'forgot','issue','loginissue','password'],\n",
        "      3: ['payment', 'pay', 'update'],\n",
        "      4: ['return', 'video'],\n",
        "      5: ['subscription', 'cancel', 'deactivate'],\n",
        "      6: ['close','close account']\n",
        "  }"
      ]
    },
    {
      "cell_type": "markdown",
      "id": "7b25cb37",
      "metadata": {
        "id": "7b25cb37"
      },
      "source": [
        "### Option 1-1: Plans and Pricing"
      ]
    },
    {
      "cell_type": "code",
      "execution_count": 7,
      "id": "1098c21b",
      "metadata": {
        "colab": {
          "base_uri": "https://localhost:8080/"
        },
        "id": "1098c21b",
        "outputId": "2c02c34e-e7ea-450d-f791-41d6caedb57e"
      },
      "outputs": [
        {
          "name": "stdout",
          "output_type": "stream",
          "text": [
            "\n",
            "      Here is the list of various plans we offer:\n",
            "      1. Monthly plan\n",
            "      2. Yearly plan\n",
            "      3. Family plan (up to 3 devices)\n",
            "      \n"
          ]
        }
      ],
      "source": [
        "if opt1 is not None:\n",
        "  if opt1 == '1':\n",
        "      print('''\n",
        "      Here is the list of various plans we offer:\n",
        "      1. Monthly plan\n",
        "      2. Yearly plan\n",
        "      3. Family plan (up to 3 devices)\n",
        "      ''')\n",
        "      opt1_1 = input(\"Please enter the number of the plan you want more info about: \")\n",
        "\n",
        "      # Keywords related to Option 1-1: Plans and Pricing\n",
        "      kw_opt1_1 = {\n",
        "          1: ['monthly', 'month'],\n",
        "          2: ['year', 'yearly'],\n",
        "          3: ['family']\n",
        "      }\n",
        "\n",
        "      # Option 1-1-1: Monthly plan\n",
        "      if opt1_1 == '1':\n",
        "          print('''\n",
        "          Here is the monthly plan information:\n",
        "          - You can watch on 1 screen at a time in Standard Definition.\n",
        "          - Download videos on 1 phone or tablet.\n",
        "          - Price: $8.99/month\n",
        "          ''')\n",
        "      # Option 1-1-2: Yearly plan\n",
        "      elif opt1_1 == '2':\n",
        "          print('''\n",
        "          Here is the Yearly plan information:\n",
        "          - You can watch on 2 screens at a time.\n",
        "          - Download videos on 2 phones or tablets.\n",
        "          - Access to HD and Ultra HD videos.\n",
        "          - Price: $95/year\n",
        "          ''')\n",
        "      # Option 1-1-3: Family plan\n",
        "      elif opt1_1 == '3':\n",
        "          print('''\n",
        "          Here is the Family plan information:\n",
        "          - You can watch on 3 screens at a time.\n",
        "          - Download videos on 3 phones or tablets.\n",
        "          - Price: $120/year\n",
        "          ''')"
      ]
    },
    {
      "cell_type": "markdown",
      "id": "9ff3fd9b",
      "metadata": {
        "id": "9ff3fd9b"
      },
      "source": [
        "\n",
        "\n",
        "```\n",
        "# This is formatted as code\n",
        "```\n",
        "\n",
        "### Option 1-2: Password / login issues"
      ]
    },
    {
      "cell_type": "code",
      "execution_count": 8,
      "id": "72ee3a1d",
      "metadata": {
        "id": "72ee3a1d"
      },
      "outputs": [],
      "source": [
        "if opt1 == '2':\n",
        "    print('''\n",
        "    Here are the problems related to password and login!\n",
        "    Please choose the option you want to get more info about:\n",
        "    1. Password issues\n",
        "    2. Login issues\n",
        "    3. Not your problem? Talk to an agent!\n",
        "    ''')\n",
        "    opt1_2 = input(\"Please enter the number of your choice: \")\n",
        "\n",
        "    # Keywords related to Option 1-2: Password / login issues\n",
        "    kw_opt1_2 = {\n",
        "        1: ['password', 'forget', 'issue'],\n",
        "        2: ['login', 'issue'],\n",
        "        3: ['agent', 'human', 'talk'],\n",
        "    }\n",
        "\n",
        "    ### Option 1-2-1: Password issues\n",
        "    if opt1_2 == '1':\n",
        "        forget_password_tried = input(\"Have you tried the 'Forgot My Password' procedure? (yes/no): \")\n",
        "        if forget_password_tried.lower() == \"no\":\n",
        "            print('''\n",
        "            If you forgot your password, you can reset it by using the \"Forgot My Password\" link on the Login page.\n",
        "            Enter your email address, and we'll send you instructions to reset it!\n",
        "            ''')\n",
        "            user_email = input(\"Please enter your email address: \")\n",
        "            print(\"You will receive an email including the instructions shortly!\")\n",
        "        else:\n",
        "            print(\"You will be connected to an agent shortly to help you with that.\")\n",
        "\n",
        "    ### Option 1-2-2: Login issues\n",
        "    elif opt1_2 == '2':\n",
        "        email_password_correct = input(\"Have you entered your email and password correctly? (yes/no): \")\n",
        "        if email_password_correct.lower() == \"yes\":\n",
        "            print(\"You will receive an email including the instructions shortly!\")\n",
        "        else:\n",
        "            print('''\n",
        "            Please make sure you are using the correct email address and password.\n",
        "            If you forgot your password, you can reset it by using the \"Forgot My Password\" link on the Login page.\n",
        "            Enter your email address, and we'll send you instructions to reset it.\n",
        "            If the problem persists, contact our support team for assistance.\n",
        "            ''')\n",
        "            user_email = input(\"Please enter your email address: \")\n",
        "            print(\"You will receive an email including the instructions shortly!\")"
      ]
    },
    {
      "cell_type": "markdown",
      "id": "66818e92",
      "metadata": {
        "id": "66818e92"
      },
      "source": [
        "### Option 1-3: Update paymant info"
      ]
    },
    {
      "cell_type": "code",
      "execution_count": 9,
      "id": "d23273b4",
      "metadata": {
        "id": "d23273b4"
      },
      "outputs": [],
      "source": [
        "if opt1 == '3':\n",
        "    user_email = input(\"Please enter your email address: \")\n",
        "    payment_option = input(\"Great! Would you like to update your payment information using a credit/debit card or a gift card? (credit/debit card or gift card): \")\n",
        "    if payment_option.lower() == \"credit/debit card\":\n",
        "        print('''\n",
        "        Thanks! You will receive an email with instructions on how to update your payment information shortly!\n",
        "        Meanwhile, you can also find more information in the \"Billing\" or \"Payment\" section of your account,\n",
        "        where there should be an option to \"Update Payment Details.\"\n",
        "        ''')\n",
        "    elif payment_option.lower() == \"gift card\":\n",
        "        print('''\n",
        "        Thanks! You will receive an email with instructions on how to update your payment information using a gift card shortly!\n",
        "        Meanwhile, you can also find more information in the \"Billing\" or \"Payment\" section of your account,\n",
        "        where there should be an option to \"Update Payment Details.\"\n",
        "        ''')\n",
        "    else:\n",
        "        print(\"Sorry, I didn't understand your choice. Please choose either 'credit/debit card' or 'gift card'.\")"
      ]
    },
    {
      "cell_type": "markdown",
      "id": "4e4d1f05",
      "metadata": {
        "id": "4e4d1f05"
      },
      "source": [
        "### Option 1-4: Retun a video"
      ]
    },
    {
      "cell_type": "code",
      "execution_count": 10,
      "id": "ddc30f98",
      "metadata": {
        "id": "ddc30f98"
      },
      "outputs": [],
      "source": [
        "if opt1 == '4':\n",
        "    print('''\n",
        "    Of course! I can help you with that.\n",
        "    Could you please provide me with the title of the video you'd like to return?\n",
        "    ''')\n",
        "    opt1_4_1 = input(\"Please enter the title of the video: \")\n",
        "    print('''\n",
        "    May I ask the reason you'd like to return the video?\n",
        "    Your feedback will help us improve our content selection.\n",
        "    ''')\n",
        "    opt1_4_2 = input(\"Please enter the reason: \")\n",
        "    print(f'''\n",
        "    Your request to return {opt1_4_1} due to the issue of {opt1_4_2} has been noted.\n",
        "    Here's what you can expect next:\n",
        "    Our team will review the issue, and if necessary, we'll provide a refund for the rental.\n",
        "    ''')"
      ]
    },
    {
      "cell_type": "markdown",
      "id": "f4a156e1",
      "metadata": {
        "id": "f4a156e1"
      },
      "source": [
        "### Option 1-5: Subscription problem / cancel\n",
        "\n",
        "\n"
      ]
    },
    {
      "cell_type": "code",
      "execution_count": 11,
      "id": "c666c58d",
      "metadata": {
        "id": "c666c58d"
      },
      "outputs": [],
      "source": [
        "if opt1 == '5':\n",
        "    user_email = input(\"Please enter your email address: \")\n",
        "    cancel_reason = input(\"Thank you for using our service. Could you please let us know the reason you want to cancel your subscription? \")\n",
        "    print('''\n",
        "    Thanks for your feedback! You will receive an email on how to cancel your subscription shortly.\n",
        "    Meanwhile, you can also find more instructions on how to cancel your subscription in the \"Subscription Management\" section of your profile.\n",
        "    We are looking forward to having you again soon!\n",
        "    ''')"
      ]
    },
    {
      "cell_type": "markdown",
      "id": "89f19afa",
      "metadata": {
        "id": "89f19afa"
      },
      "source": [
        "### Option 1-6: Close account"
      ]
    },
    {
      "cell_type": "code",
      "execution_count": 12,
      "id": "0f1f3167-ee26-4b9a-9920-42d48370277b",
      "metadata": {
        "id": "0f1f3167-ee26-4b9a-9920-42d48370277b"
      },
      "outputs": [],
      "source": [
        "if opt1 == '6':\n",
        "    user_email = input(\"Please enter your email address: \")\n",
        "    deactivate_reason = input(\"Thank you for using our service. Could you please let us know the reason you want to deactivate your account? \")\n",
        "    print('''\n",
        "    Thanks for your feedback! You will receive an email on how to deactivate your account shortly.\n",
        "    Meanwhile, you can also find more instructions on how to deactivate your account in the \"Account Management\" section of your profile.\n",
        "    We are looking forward to having you again soon!\n",
        "    ''')"
      ]
    },
    {
      "cell_type": "markdown",
      "id": "0277850e-acc5-42ca-93b2-c20e35788800",
      "metadata": {
        "id": "0277850e-acc5-42ca-93b2-c20e35788800",
        "tags": []
      },
      "source": [
        "## Scenario 2 watch suggestion"
      ]
    },
    {
      "cell_type": "code",
      "execution_count": 13,
      "id": "88df099a-ca2c-4fae-9f62-7d7961e1e395",
      "metadata": {
        "colab": {
          "base_uri": "https://localhost:8080/",
          "height": 351
        },
        "id": "88df099a-ca2c-4fae-9f62-7d7961e1e395",
        "outputId": "48f94744-703b-4238-b26f-ef93997e6def"
      },
      "outputs": [],
      "source": [
        "df=pd.read_csv(\"titles.csv\")"
      ]
    },
    {
      "cell_type": "code",
      "execution_count": 14,
      "id": "3db372f9-fb17-4fb9-9fd7-c28d35a4b7d0",
      "metadata": {
        "id": "3db372f9-fb17-4fb9-9fd7-c28d35a4b7d0"
      },
      "outputs": [],
      "source": [
        "opt2_3 = None\n",
        "if 2 in check_words(welcome,kw_welcome):\n",
        "    opt2_3 = input(\n",
        "    '''\n",
        "    Hello there! 🎬 Are you looking for movie suggestions or TV show recommendations today?\n",
        "    ''')"
      ]
    },
    {
      "cell_type": "code",
      "execution_count": 15,
      "id": "904730a0-b1a1-4714-a9b1-33897b48309e",
      "metadata": {
        "id": "904730a0-b1a1-4714-a9b1-33897b48309e"
      },
      "outputs": [],
      "source": [
        "# store the keywords for opt2_3\n",
        "# 1 = Movie\n",
        "# 2 = TV Shows\n",
        "kw_opt2_3 = {\n",
        "    1: ['film','films','movie','movies'],\n",
        "    2: ['TV','shows','series','documentary','show']\n",
        "}"
      ]
    },
    {
      "cell_type": "markdown",
      "id": "7c9f0cac-3873-4a81-851a-82730bb459f3",
      "metadata": {
        "id": "7c9f0cac-3873-4a81-851a-82730bb459f3",
        "tags": []
      },
      "source": [
        "#### Option 2-1: Movie"
      ]
    },
    {
      "cell_type": "code",
      "execution_count": 16,
      "id": "9d5edc81-508b-43a0-81eb-412c7a5af421",
      "metadata": {
        "id": "9d5edc81-508b-43a0-81eb-412c7a5af421"
      },
      "outputs": [],
      "source": [
        "opt2_3_1_1 = None\n",
        "if opt2_3 is not None:\n",
        "    if 1 in check_words(opt2_3,kw_opt2_3):\n",
        "        opt2_3_1_1 = input('''\n",
        "        Fantastic! 🍿 How about narrowing it down by sharing your preferred movie genre? We have options like action, comedy, sci-fi, romance, and more. If you're not sure, no worries – I can suggest a popular movie across genres!\n",
        "        ''').lower()"
      ]
    },
    {
      "cell_type": "code",
      "execution_count": 17,
      "id": "e915a068-39a0-4920-bc15-0bf1176daa6f",
      "metadata": {
        "id": "e915a068-39a0-4920-bc15-0bf1176daa6f"
      },
      "outputs": [],
      "source": [
        "# Store the keywords for movie genres\n",
        "kw_opt2_3_1 = ['documentation', 'drama', 'crime', 'action', 'thriller', 'european', 'fantasy', 'comedy', 'war', 'romance', 'western', 'history', 'music', 'family', 'horror', 'scifi', 'animation', 'reality', 'sport']"
      ]
    },
    {
      "cell_type": "code",
      "execution_count": 18,
      "id": "cpHJePayLxPo",
      "metadata": {
        "id": "cpHJePayLxPo"
      },
      "outputs": [],
      "source": [
        "# Ask the user for their preferred movie released year\n",
        "opt2_3_1_2 = None\n",
        "if opt2_3 is not None:\n",
        "    if opt2_3_1_1 in kw_opt2_3_1:\n",
        "        opt2_3_1_2 = int(input('''\n",
        "        I can also help you filter movies based on their release years:\n",
        "            1. New (Last 3 years)\n",
        "            2. Last Century (20th century)\n",
        "            3. This Century (21st century)\n",
        "            4. No Preference (All years)\n",
        "        Just type the number of the response you want'''))"
      ]
    },
    {
      "cell_type": "code",
      "execution_count": 19,
      "id": "5aefd129-34a8-4966-8fde-aedb6165cf6e",
      "metadata": {
        "id": "5aefd129-34a8-4966-8fde-aedb6165cf6e"
      },
      "outputs": [],
      "source": [
        "if opt2_3_1_2 in range(1,5):\n",
        "  # Filter movies based on the selected genre\n",
        "  selected_movies_by_genre = df[df['genres'].str.lower().str.contains(opt2_3_1_1)&(df['type']=='MOVIE')]\n",
        "\n",
        "  # Apply filters based on release year preference\n",
        "  if opt2_3_1_2 == 2:\n",
        "      selected_movies = selected_movies_by_genre[selected_movies_by_genre['release_year'] <= 2000]\n",
        "  elif opt2_3_1_2 == 3:\n",
        "      selected_movies = selected_movies_by_genre[selected_movies_by_genre['release_year'] > 2000]\n",
        "  elif opt2_3_1_2 == 1:\n",
        "      current_year = pd.Timestamp.now().year\n",
        "      selected_movies = selected_movies_by_genre[(selected_movies_by_genre['release_year'] >= current_year - 3) & (selected_movies_by_genre['release_year'] <= current_year)]\n",
        "  else:\n",
        "      selected_movies = selected_movies_by_genre\n",
        "\n",
        "  # Sort the selected movies by IMDb score in descending order\n",
        "  selected_movies = selected_movies.sort_values(by='imdb_score', ascending=False)\n",
        "\n",
        "  # Display the top 10 suggested movies based on IMDb score\n",
        "  top_10_movies = selected_movies.head(10)\n",
        "  print(\"Drumroll, please! 🥁 Here are the top 10 suggested movies based on their IMDb scores:\")\n",
        "  #for index, row in top_10_movies.iterrows():\n",
        "      #print(f\"Show: {row['title']} | Rating: {row['imdb_score']}\")\n",
        "\n",
        "  # Create a bar plot using Seaborn\n",
        "  plt.figure(figsize=(10, 6))\n",
        "  sns.barplot(x='imdb_score', y='title', data=top_10_movies, palette='viridis')\n",
        "  plt.xlabel('IMDb Score')\n",
        "  plt.ylabel('Movie Title')\n",
        "  plt.title('Top 10 Movies Based on IMDb Score')\n",
        "  plt.xlim(top_10_movies['imdb_score'].min() - 0.1, top_10_movies['imdb_score'].max() + 0.1)\n",
        "  plt.tight_layout()\n",
        "\n",
        "  # Show the plot\n",
        "  plt.show()"
      ]
    },
    {
      "cell_type": "markdown",
      "id": "c539f793-d85a-4bfa-8380-49f301c9df5d",
      "metadata": {
        "id": "c539f793-d85a-4bfa-8380-49f301c9df5d"
      },
      "source": [
        "#### Option 2-2: TV shows"
      ]
    },
    {
      "cell_type": "code",
      "execution_count": 20,
      "id": "f105a7b0-52ee-4624-b0d1-f62526f879bb",
      "metadata": {
        "id": "f105a7b0-52ee-4624-b0d1-f62526f879bb"
      },
      "outputs": [],
      "source": [
        "opt2_3_2_1 = None\n",
        "if opt2_3 is not None:\n",
        "    if 2 in check_words(opt2_3,kw_opt2_3):\n",
        "        opt2_3_2_1 = input('''\n",
        "        Awesome! 📺 What type of TV show are you in the mood for? Just let me know your preference!\n",
        "        ''')"
      ]
    },
    {
      "cell_type": "code",
      "execution_count": 21,
      "id": "50_82L-Geq54",
      "metadata": {
        "id": "50_82L-Geq54"
      },
      "outputs": [],
      "source": [
        "# Ask the user for their preferred shows released year\n",
        "opt2_3_2_2 = None\n",
        "if opt2_3 is not None:\n",
        "    if opt2_3_2_1 in kw_opt2_3_1:\n",
        "        opt2_3_2_2 = int(input('''\n",
        "        I can also help you filter shows based on their release years:\n",
        "            1. New (Last 3 years)\n",
        "            2. Last Century (20th century)\n",
        "            3. This Century (21st century)\n",
        "            4. No Preference (All years)\n",
        "        Just type the number of the response you want'''))"
      ]
    },
    {
      "cell_type": "code",
      "execution_count": 22,
      "id": "a30f17b7-393e-4d71-a413-3f925bb50506",
      "metadata": {
        "id": "a30f17b7-393e-4d71-a413-3f925bb50506"
      },
      "outputs": [],
      "source": [
        "if opt2_3_2_2 in range(1,5):\n",
        "  # Filter shows based on the selected genre\n",
        "  selected_shows_by_genre = df[df['genres'].str.lower().str.contains(opt2_3_2_1)&(df['type']=='SHOW')]\n",
        "\n",
        "  # Apply filters based on release year preference\n",
        "  if opt2_3_1_2 == 2:\n",
        "      selected_shows = selected_shows_by_genre[selected_shows_by_genre['release_year'] <= 2000]\n",
        "  elif opt2_3_1_2 == 3:\n",
        "      selected_shows = selected_shows_by_genre[selected_shows_by_genre['release_year'] > 2000]\n",
        "  elif opt2_3_1_2 == 1:\n",
        "      current_year = pd.Timestamp.now().year\n",
        "      selected_shows = selected_shows_by_genre[(selected_shows_by_genre['release_year'] >= current_year - 3) & (selected_movies_by_genre['release_year'] <= current_year)]\n",
        "  else:\n",
        "      selected_shows = selected_shows_by_genre\n",
        "\n",
        "  # Sort the selected movies by IMDb score in descending order\n",
        "  selected_shows = selected_shows.sort_values(by='imdb_score', ascending=False)\n",
        "\n",
        "  # Display the top 10 suggested movies based on IMDb score\n",
        "  top_10_shows = selected_shows.head(10)\n",
        "  print(\"Drumroll, please! 🥁 Here are the top 10 suggested shows based on their IMDb scores:\")\n",
        "  #for index, row in top_10_shows.iterrows():\n",
        "      #print(f\"Show: {row['title']} | Rating: {row['imdb_score']}\")\n",
        "\n",
        "  # Create a bar plot using Seaborn for top 10 shows\n",
        "  plt.figure(figsize=(10, 6))\n",
        "  sns.barplot(x='imdb_score', y='title', data=top_10_shows, palette='viridis')\n",
        "  plt.xlabel('IMDb Score')\n",
        "  plt.ylabel('Show Title')\n",
        "  plt.title('Top 10 Shows Based on IMDb Score')\n",
        "  plt.xlim(top_10_shows['imdb_score'].min() - 0.1, top_10_shows['imdb_score'].max() + 0.1)\n",
        "  plt.tight_layout()\n",
        "\n",
        "  # Show the plot\n",
        "  plt.show()"
      ]
    },
    {
      "cell_type": "markdown",
      "id": "8afba7e8-4c4a-4548-bb0f-0dbe3b7d88e0",
      "metadata": {
        "id": "8afba7e8-4c4a-4548-bb0f-0dbe3b7d88e0"
      },
      "source": [
        "## Scenario 3 How do I...?"
      ]
    },
    {
      "cell_type": "code",
      "execution_count": 23,
      "id": "KD0Bh8kmYgKq",
      "metadata": {
        "id": "KD0Bh8kmYgKq"
      },
      "outputs": [],
      "source": [
        "df = pd.read_csv('imdb.csv')\n",
        "DF = pd.DataFrame(df)\n",
        "DF['title'] = DF['title'].astype(str)\n",
        "DF['title'] = DF['title'].map(str.lower)"
      ]
    },
    {
      "cell_type": "code",
      "execution_count": 24,
      "id": "GuR_yPUgzEiS",
      "metadata": {
        "id": "GuR_yPUgzEiS"
      },
      "outputs": [],
      "source": [
        "welcome_1 = welcome.lower().split()\n",
        "condition = 0\n",
        "opt4_1 = None\n",
        "for word in welcome_1:\n",
        "  if word in kw_welcome[3]:\n",
        "    condition += 1\n",
        "    opt4_1 = input('''I am happy to help you.\n",
        "      What would you like to do?\n",
        "      1. Search for titles?\n",
        "      2. Access languages for subtitles?\n",
        "      3. Register or de-register a device?\n",
        "      4. Access purchased or rented videos?\n",
        "      5. Enable or disable parental control?\n",
        "      6. Update my country?\n",
        "    ''').lower().split()\n",
        "    if condition > 0:\n",
        "      break"
      ]
    },
    {
      "cell_type": "code",
      "execution_count": 25,
      "id": "Vqcf9pZWzGRR",
      "metadata": {
        "id": "Vqcf9pZWzGRR"
      },
      "outputs": [
        {
          "name": "stdout",
          "output_type": "stream",
          "text": [
            "Collecting fuzzywuzzy\n",
            "  Downloading fuzzywuzzy-0.18.0-py2.py3-none-any.whl (18 kB)\n",
            "Installing collected packages: fuzzywuzzy\n",
            "Successfully installed fuzzywuzzy-0.18.0\n"
          ]
        },
        {
          "name": "stderr",
          "output_type": "stream",
          "text": [
            "/Users/rohankumar/anaconda3/lib/python3.10/site-packages/fuzzywuzzy/fuzz.py:11: UserWarning: Using slow pure-python SequenceMatcher. Install python-Levenshtein to remove this warning\n",
            "  warnings.warn('Using slow pure-python SequenceMatcher. Install python-Levenshtein to remove this warning')\n"
          ]
        }
      ],
      "source": [
        "words_4_2 = ['titles', 'title', 'movie', 'name', 'search', 'TV show', 'show' , 'series', \"1\"]\n",
        "condition = 0\n",
        "if opt4_1 is not None:\n",
        "  for word in opt4_1:\n",
        "    if word in words_4_2:\n",
        "          condition += 1\n",
        "          opt4_2 = input(\"To search for any movie or TV show, please type the name below and press enter \")\n",
        "          if DF['title'].str.contains(opt4_2).any():\n",
        "              best_match, score = process.extractOne(opt4_2, DF['title'].values)\n",
        "              print(f' Great news! {best_match} is available to watch on Netflix. Sit back, relax, and enjoy from the comfort of your home')\n",
        "          else:\n",
        "              print(f'Unfortunately, {opt4_2} is not currently available on Netflix. However, there are many other exciting options you might enjoy.')\n",
        "          if condition > 0:\n",
        "            break"
      ]
    },
    {
      "cell_type": "code",
      "execution_count": 26,
      "id": "z_5aAAFgzIQh",
      "metadata": {
        "id": "z_5aAAFgzIQh"
      },
      "outputs": [],
      "source": [
        "words_4_3 = ['subtitles', 'subtitle', 'language', 'languages' , 'text', 'caption', 'captions', \"2\"]\n",
        "condition = 0\n",
        "if opt4_1 is not None:\n",
        "  for word in opt4_1:\n",
        "    if word in words_4_3:\n",
        "        condition += 1\n",
        "        opt4_3 = print('''To change the langauge for subtitles for a video:\n",
        "                  1. Hover your cursor to the bottom of the screen while watching a video\n",
        "                  2. Select audios and subtitles.\n",
        "                  3. Click on the subtitles option to change the langauge for the for the subtitles. ''')\n",
        "        if condition > 0:\n",
        "          break"
      ]
    },
    {
      "cell_type": "code",
      "execution_count": 27,
      "id": "MFq50EmszKSt",
      "metadata": {
        "id": "MFq50EmszKSt"
      },
      "outputs": [],
      "source": [
        "word_4_4 = ['register','de-register','deregister','device','add','remove',\"3\"]\n",
        "condition = 0\n",
        "if opt4_1 is not None:\n",
        "  for word in opt4_1:\n",
        "    if word in word_4_4:\n",
        "        condition += 1\n",
        "        opt4_4 = print('''To register, open netflix on the device you would like to register and sign in. Upon signing in, it will generate a code on the registered email address. Enter the code and enjoy Netflix.\n",
        "  To remove a device, sign in to Netflix and go to settings. Then click on manage download devices and click on remove the device option for the device you want to remove.''')\n",
        "        if condition > 0:\n",
        "          break"
      ]
    },
    {
      "cell_type": "code",
      "execution_count": 28,
      "id": "70Qzqb2TzL1A",
      "metadata": {
        "id": "70Qzqb2TzL1A"
      },
      "outputs": [],
      "source": [
        "words_4_5 = ['purchase','purchased','rent','rented', \"4\"]\n",
        "condition = 0\n",
        "if opt4_1 is not None:\n",
        "  for word in opt4_1:\n",
        "    if word in words_4_5:\n",
        "        condition += 1\n",
        "        opt4_5 = print('''To access the purchased/rented videos, visit dvd.netflix.com''')\n",
        "        if condition > 0:\n",
        "          break"
      ]
    },
    {
      "cell_type": "code",
      "execution_count": 29,
      "id": "1X4lvH0LzPCY",
      "metadata": {
        "id": "1X4lvH0LzPCY"
      },
      "outputs": [],
      "source": [
        "word_4_6 = ['parental' 'control' 'kids' 'kid' 'account', \"5\"]\n",
        "condition = 0\n",
        "if opt4_1 is not None:\n",
        "  for word in opt4_1:\n",
        "    if word in word_4_6:\n",
        "        condition += 1\n",
        "        opt4_6 = input('''Below are multiple parental control options that Netflix offer. Please select which one would\n",
        "                  you like to know about more:\n",
        "                  1. Create a profile for kids\n",
        "                  2. Lock a profile or other profiles on your account\n",
        "                  3. Access viewing history\n",
        "                  ''').lower().split()\n",
        "        if condition > 0:\n",
        "                    break"
      ]
    },
    {
      "cell_type": "code",
      "execution_count": 30,
      "id": "1nC1j1s_zRxu",
      "metadata": {
        "id": "1nC1j1s_zRxu"
      },
      "outputs": [],
      "source": [
        "word_4_6_1 = ['create','profile','profiles','kids', \"1\"]\n",
        "word_4_6_2 = ['lock','profile','profiles','kids', \"2\"]\n",
        "word_4_6_3 = ['access','view','history', \"3\"]\n",
        "condition = 0\n",
        "if opt4_1 is not None:\n",
        "  for word in opt4_1:\n",
        "    condition += 1\n",
        "    if word in word_4_6_1:\n",
        "        opt4_6_1 = print('''To create a profile for kids:\n",
        "                1. Click on the profile icon.\n",
        "                2. Then click on the add profile\n",
        "                3. Then choose kids account''')\n",
        "    elif word in word_4_6_2:\n",
        "        opt4_6_2 = print('''To lock a profile, you must visit the security section of your account and choose the lock a profile\n",
        "                option. It will re-direct you to a page where you can lock a profile.''')\n",
        "    elif word in word_4_6_3:\n",
        "        opt4_6_3 = print('''To access the viewing history:\n",
        "                1. Open the parent account of the kids account\n",
        "                2. Click on the kids account option by clicking on the account icon on the top left corner.\n",
        "                3. Then click on view history''')\n",
        "        if condition > 0:\n",
        "          break"
      ]
    },
    {
      "cell_type": "code",
      "execution_count": 31,
      "id": "3-e7csprzStV",
      "metadata": {
        "id": "3-e7csprzStV"
      },
      "outputs": [],
      "source": [
        "words_4_7 = ['country','update', \"6\"]\n",
        "condition = 0\n",
        "if opt4_1 is not None:\n",
        "  for word in opt4_1:\n",
        "    if word in words_4_7:\n",
        "        condition += 1\n",
        "        opt4_7 = print('''The country on your account can’t be changed unless you move to a new one. To change the country for your\n",
        "                account:\n",
        "                1. Select help and then select manage select household\n",
        "                2. Confirm or update your netflix household. Once done, you will receive a confirmation message\n",
        "                3. Upon confirmation, your country for that account will be updated accordingly.''')\n",
        "        if condition > 0:\n",
        "          break"
      ]
    },
    {
      "cell_type": "markdown",
      "id": "73028e8d-1106-4726-9775-7059b455d0ac",
      "metadata": {
        "id": "73028e8d-1106-4726-9775-7059b455d0ac",
        "jp-MarkdownHeadingCollapsed": true,
        "tags": []
      },
      "source": [
        "## Scenario 4 Feedback"
      ]
    },
    {
      "cell_type": "code",
      "execution_count": 32,
      "id": "83577273-0763-4bb2-957a-78a772887149",
      "metadata": {
        "id": "83577273-0763-4bb2-957a-78a772887149"
      },
      "outputs": [
        {
          "name": "stdout",
          "output_type": "stream",
          "text": [
            "Invalid input. Please respond with 'yes' or 'no'.\n"
          ]
        }
      ],
      "source": [
        "# Function to remove stopwords from text\n",
        "def remove_stopwords(text, stopwords):\n",
        "    words = text.lower().split()  # Convert text to lowercase and split into words\n",
        "    filtered_words = []\n",
        "    for word in words:\n",
        "        if word not in stopwords:  # Check if the word is not a stopword\n",
        "            filtered_words.append(word)\n",
        "    return filtered_words\n",
        "\n",
        "# Function to perform sentiment analysis using a lexicon\n",
        "def sentiment_analysis(text, stopwords, lexicon):\n",
        "    filtered_words = remove_stopwords(text, stopwords)  # Remove stopwords from the text\n",
        "\n",
        "    sentiment_score = 0\n",
        "\n",
        "    # Calculate sentiment score based on words in the lexicon\n",
        "    for word in filtered_words:\n",
        "        if word in lexicon:\n",
        "            sentiment_score += lexicon[word]\n",
        "    sentiment_score = sentiment_score / len(filtered_words)  # Calculate average sentiment score\n",
        "\n",
        "    # Determine sentiment label based on sentiment score\n",
        "    if sentiment_score > 0:\n",
        "        sentiment = \"Positive\"\n",
        "    elif sentiment_score < 0:\n",
        "        sentiment = \"Negative\"\n",
        "    else:\n",
        "        sentiment = \"Neutral\"\n",
        "\n",
        "    return sentiment, sentiment_score\n",
        "\n",
        "# Lexicon containing sentiment scores for specific words\n",
        "lexicon = {\n",
        "    \"good\": 1,\n",
        "    \"bad\": -1,\n",
        "    \"great\": 1,\n",
        "    \"horrible\": -1,\n",
        "    \"excellent\": 1,\n",
        "    \"awful\": -1,\n",
        "    \"happy\": 1,\n",
        "    \"sad\": -1,\n",
        "    \"amazing\": 1,\n",
        "    \"terrible\": -1,\n",
        "}\n",
        "\n",
        "# List of stopwords to be removed from text\n",
        "stopwords = [\"is\", \"there\", \"a\", \"the\", \"and\", \"to\", \"on\", \"for\", \"with\", \"of\", \"in\", \"it\", \"this\", \"that\"]\n",
        "\n",
        "\n",
        "\n",
        "# Gather feedback from the user\n",
        "feedback = input(\n",
        "'''\n",
        "Hi there! 👋\n",
        "I'm here to assist you with all things Netflix.\n",
        "We're always looking to improve. Would you mind sharing some feedback about your experience with us? Your thoughts can help us enhance our service to better meet your needs. (yes/no)\n",
        "''')\n",
        "\n",
        "if feedback.lower() == 'yes':\n",
        "    print(\"Thank you for your feedback! We truly appreciate it.\")\n",
        "    userid = input(\"Can I have your user id? \")\n",
        "\n",
        "    # Check if user exists in the dataset\n",
        "    if userid in user_data[\"username\"]:\n",
        "        password = input(\"Please enter your password: \")\n",
        "\n",
        "        # Find the index of the user in the dataset\n",
        "        user_index = user_data[\"username\"].index(userid)\n",
        "\n",
        "        # Verify the passw'ord\n",
        "        if password == user_data[\"password\"][user_index]:\n",
        "            feedback_1 = input(\"What is your favorite aspect of Netflix? \")\n",
        "            feedback_2 = input(\"Is there something specific you would like to see improved on Netflix? \")\n",
        "            # Perform sentiment analysis\n",
        "            sentiment_1, sentiment_score_1 = sentiment_analysis(feedback_1, stopwords, lexicon)\n",
        "            sentiment_2, sentiment_score_2 = sentiment_analysis(feedback_2, stopwords, lexicon)\n",
        "\n",
        "            # Add data to dataframes using append\n",
        "            df_feedback_1 = df_feedback_1.append({\"userid\": userid, \"response\": feedback_1, \"sentiment\": sentiment_1, \"sentiment_score\": sentiment_score_1}, ignore_index=True)\n",
        "            df_feedback_2 = df_feedback_2.append({\"userid\": userid, \"response\": feedback_2, \"sentiment\": sentiment_2, \"sentiment_score\": sentiment_score_2}, ignore_index=True)\n",
        "\n",
        "            print(\"Thank you so much for your valuable input! Your feedback is truly appreciated and will help us make Netflix even better for you. Have a great day and enjoy your streaming! 🍿\")\n",
        "        else:\n",
        "            print(\"Password incorrect. Please try again.\")\n",
        "    else:\n",
        "        print(\"User not found. Please try again or type 'exit' to quit the conversation.\")\n",
        "        retry = input(\"Would you like to try again? (yes/no) \")\n",
        "        if retry.lower() == 'yes':\n",
        "            userid = input(\"Can I have your user id? \")\n",
        "            # ... (repeat the above steps)\n",
        "        else:\n",
        "            print(\"Thank you for considering. If you change your mind, feel free to share your feedback later.\")\n",
        "\n",
        "elif feedback.lower() == 'no':\n",
        "    print(\"Thank you for considering. If you change your mind, feel free to share your feedback later.\")\n",
        "else:\n",
        "    print(\"Invalid input. Please respond with 'yes' or 'no'.\")\n",
        "\n",
        "\n",
        "\n"
      ]
    }
  ],
  "metadata": {
    "colab": {
      "provenance": [],
      "toc_visible": true
    },
    "kernelspec": {
      "display_name": "Python 3 (ipykernel)",
      "language": "python",
      "name": "python3"
    },
    "language_info": {
      "codemirror_mode": {
        "name": "ipython",
        "version": 3
      },
      "file_extension": ".py",
      "mimetype": "text/x-python",
      "name": "python",
      "nbconvert_exporter": "python",
      "pygments_lexer": "ipython3",
      "version": "3.10.9"
    }
  },
  "nbformat": 4,
  "nbformat_minor": 5
}
